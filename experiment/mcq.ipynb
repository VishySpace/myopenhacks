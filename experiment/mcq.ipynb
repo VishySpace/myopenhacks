{
 "cells": [
  {
   "cell_type": "code",
   "execution_count": 1,
   "id": "09637def",
   "metadata": {},
   "outputs": [
    {
     "data": {
      "text/plain": [
       "True"
      ]
     },
     "execution_count": 1,
     "metadata": {},
     "output_type": "execute_result"
    }
   ],
   "source": [
    "import os\n",
    "import json\n",
    "import pandas as pd\n",
    "import traceback\n",
    "from dotenv import load_dotenv\n",
    "from langchain_openai import ChatOpenAI\n",
    "load_dotenv()"
   ]
  },
  {
   "cell_type": "code",
   "execution_count": 2,
   "id": "2791107d",
   "metadata": {},
   "outputs": [],
   "source": [
    "KEY=os.getenv(\"OPENAI_API_KEY\")"
   ]
  },
  {
   "cell_type": "code",
   "execution_count": 3,
   "id": "97c4920a",
   "metadata": {
    "scrolled": true
   },
   "outputs": [],
   "source": [
    "llm=ChatOpenAI(openai_api_key=KEY,model_name=\"gpt-3.5-turbo\", temperature=0.5)"
   ]
  },
  {
   "cell_type": "code",
   "execution_count": 4,
   "id": "de0daa18",
   "metadata": {},
   "outputs": [
    {
     "name": "stdout",
     "output_type": "stream",
     "text": [
      "client=<openai.resources.chat.completions.Completions object at 0x12dc8fb20> async_client=<openai.resources.chat.completions.AsyncCompletions object at 0x12dcc9240> temperature=0.5 openai_api_key=SecretStr('**********') openai_proxy=''\n"
     ]
    }
   ],
   "source": [
    "print(llm)\n"
   ]
  },
  {
   "cell_type": "code",
   "execution_count": 5,
   "id": "a9493d6d",
   "metadata": {},
   "outputs": [],
   "source": [
    "from langchain.llms import OpenAI\n",
    "from langchain.prompts import PromptTemplate\n",
    "from langchain.chains import LLMChain\n",
    "from langchain.chains import SequentialChain\n",
    "from langchain.callbacks import get_openai_callback\n",
    "import PyPDF2\n"
   ]
  },
  {
   "cell_type": "code",
   "execution_count": 6,
   "id": "36d74fa8",
   "metadata": {},
   "outputs": [],
   "source": [
    "RESPONSE_JSON = {\n",
    "    \"1\": {\n",
    "        \"mcq\": \"multiple choice question\",\n",
    "        \"options\": {\n",
    "            \"a\": \"choice here\",\n",
    "            \"b\": \"choice here\",\n",
    "            \"c\": \"choice here\",\n",
    "            \"d\": \"choice here\",\n",
    "        },\n",
    "        \"correct\": \"correct answer\",\n",
    "    },\n",
    "    \"2\": {\n",
    "        \"mcq\": \"multiple choice question\",\n",
    "        \"options\": {\n",
    "            \"a\": \"choice here\",\n",
    "            \"b\": \"choice here\",\n",
    "            \"c\": \"choice here\",\n",
    "            \"d\": \"choice here\",\n",
    "        },\n",
    "        \"correct\": \"correct answer\",\n",
    "    },\n",
    "    \"3\": {\n",
    "        \"mcq\": \"multiple choice question\",\n",
    "        \"options\": {\n",
    "            \"a\": \"choice here\",\n",
    "            \"b\": \"choice here\",\n",
    "            \"c\": \"choice here\",\n",
    "            \"d\": \"choice here\",\n",
    "        },\n",
    "        \"correct\": \"correct answer\",\n",
    "    },\n",
    "}"
   ]
  },
  {
   "cell_type": "code",
   "execution_count": 7,
   "id": "cb07940f",
   "metadata": {},
   "outputs": [],
   "source": [
    "TEMPLATE=\"\"\"\n",
    "Text:{text}\n",
    "You are an expert MCQ maker. Given the above text, it is your job to \\\n",
    "create a quiz {number} multiple choice questions for {subject} students in {tone} tone.\n",
    "Make sure the questions are not repeated and check all the questions to be conforming the test as well.\n",
    "Make sure to format your response like RESPONSE_KJSON below and use it as a guide. \\\n",
    "Ensure tomake {number} MCQs\n",
    "### RESPONSE_JSON\n",
    "{response_json}\n",
    "\n",
    "\"\"\""
   ]
  },
  {
   "cell_type": "code",
   "execution_count": 8,
   "id": "d73adcef",
   "metadata": {},
   "outputs": [],
   "source": [
    "quiz_generation_prompt = PromptTemplate(\n",
    "input_variables=[\"text\", \"number\", \"subject\", \"tone\", \"response_json\"],\n",
    "template=TEMPLATE)"
   ]
  },
  {
   "cell_type": "code",
   "execution_count": 9,
   "id": "ecfe445a",
   "metadata": {},
   "outputs": [],
   "source": [
    "quiz_chain=LLMChain(llm=llm,prompt=quiz_generation_prompt,output_key=\"quiz\", verbose=True)"
   ]
  },
  {
   "cell_type": "code",
   "execution_count": 10,
   "id": "f2d021fe",
   "metadata": {},
   "outputs": [],
   "source": [
    "TEMPLATE2=\"\"\"\n",
    "You are an expert english grammarian and writer. Given a Multiple Choice Quiz for {subject} students.\\\n",
    "You need to evaluate the complexity of the question and give a complete analysis of the quiz. Only use at max 50 words for complexity analysis. \n",
    "if the quiz is not at per with the cognitive and analytical abilities of the students,\\\n",
    "update the quiz questions which needs to be changed and change the tone such that it perfectly fits the student abilities\n",
    "Quiz_MCQs:\n",
    "{quiz}\n",
    "\n",
    "Check from an expert English Writer of the above quiz:\n",
    "\"\"\"\n"
   ]
  },
  {
   "cell_type": "code",
   "execution_count": 11,
   "id": "e0eba731",
   "metadata": {},
   "outputs": [],
   "source": [
    "quiz_evaluation_prompt=PromptTemplate(input_variables=[\"subject\", \"quiz\"], template=TEMPLATE2)\n"
   ]
  },
  {
   "cell_type": "code",
   "execution_count": 12,
   "id": "46463c5d",
   "metadata": {},
   "outputs": [],
   "source": [
    "review_chain=LLMChain(llm=llm, prompt=quiz_evaluation_prompt, output_key=\"review\", verbose=True)\n"
   ]
  },
  {
   "cell_type": "code",
   "execution_count": 13,
   "id": "fb2a25c5",
   "metadata": {},
   "outputs": [],
   "source": [
    "generate_evaluate_chain=SequentialChain(chains=[quiz_chain, review_chain], input_variables=[\"text\", \"number\", \"subject\", \"tone\", \"response_json\"],\n",
    "                                        output_variables=[\"quiz\", \"review\"], verbose=True,)\n"
   ]
  },
  {
   "cell_type": "code",
   "execution_count": 14,
   "id": "49fc8cf5",
   "metadata": {},
   "outputs": [],
   "source": [
    "file_path=\"/Users/vishypoosala/Documents/hacks/genai/mcq/data.txt\"\n"
   ]
  },
  {
   "cell_type": "code",
   "execution_count": 15,
   "id": "f73dd0f8",
   "metadata": {},
   "outputs": [
    {
     "data": {
      "text/plain": [
       "'/Users/vishypoosala/Documents/hacks/genai/mcq/data.txt'"
      ]
     },
     "execution_count": 15,
     "metadata": {},
     "output_type": "execute_result"
    }
   ],
   "source": [
    "file_path\n"
   ]
  },
  {
   "cell_type": "code",
   "execution_count": 16,
   "id": "ebd9d936",
   "metadata": {},
   "outputs": [],
   "source": [
    "with open(file_path, 'r') as file:\n",
    "    TEXT = file.read()"
   ]
  },
  {
   "cell_type": "code",
   "execution_count": 17,
   "id": "372b1368",
   "metadata": {},
   "outputs": [
    {
     "data": {
      "text/plain": [
       "\"The term machine learning was coined in 1959 by Arthur Samuel, an IBM employee and pioneer in the field of computer gaming and artificial intelligence.[9][10] The synonym self-teaching computers was also used in this time period.[11][12]\\n\\nAlthough the earliest machine learning model was introduced in the 1950s when Arthur Samuel invented a program that calculated the winning chance in checkers for each side, the history of machine learning roots back to decades of human desire and effort to study human cognitive processes.[13] In 1949, Canadian psychologist Donald Hebb published the book The Organization of Behavior, in which he introduced a theoretical neural structure formed by certain interactions among nerve cells.[14] Hebb's model of neurons interacting with one another set a groundwork for how AIs and machine learning algorithms work under nodes, or artificial neurons used by computers to communicate data.[13] Other researchers who have studied human cognitive systems contributed to the modern machine learning technologies as well, including logician Walter Pitts and Warren McCulloch, who proposed the early mathematical models of neural networks to come up with algorithms that mirror human thought processes.[13]\\n\\n\\n\""
      ]
     },
     "execution_count": 17,
     "metadata": {},
     "output_type": "execute_result"
    }
   ],
   "source": [
    "TEXT"
   ]
  },
  {
   "cell_type": "code",
   "execution_count": 18,
   "id": "5792d8bd",
   "metadata": {},
   "outputs": [
    {
     "data": {
      "text/plain": [
       "'{\"1\": {\"mcq\": \"multiple choice question\", \"options\": {\"a\": \"choice here\", \"b\": \"choice here\", \"c\": \"choice here\", \"d\": \"choice here\"}, \"correct\": \"correct answer\"}, \"2\": {\"mcq\": \"multiple choice question\", \"options\": {\"a\": \"choice here\", \"b\": \"choice here\", \"c\": \"choice here\", \"d\": \"choice here\"}, \"correct\": \"correct answer\"}, \"3\": {\"mcq\": \"multiple choice question\", \"options\": {\"a\": \"choice here\", \"b\": \"choice here\", \"c\": \"choice here\", \"d\": \"choice here\"}, \"correct\": \"correct answer\"}}'"
      ]
     },
     "execution_count": 18,
     "metadata": {},
     "output_type": "execute_result"
    }
   ],
   "source": [
    "json.dumps(RESPONSE_JSON)"
   ]
  },
  {
   "cell_type": "code",
   "execution_count": 19,
   "id": "937a7b4c",
   "metadata": {},
   "outputs": [],
   "source": [
    "NUMBER=5 \n",
    "SUBJECT=\"machine learning\"\n",
    "TONE=\"simple\""
   ]
  },
  {
   "cell_type": "code",
   "execution_count": 20,
   "id": "7612fcec",
   "metadata": {},
   "outputs": [
    {
     "name": "stderr",
     "output_type": "stream",
     "text": [
      "/Users/vishypoosala/miniconda3/lib/python3.10/site-packages/langchain_core/_api/deprecation.py:119: LangChainDeprecationWarning: The method `Chain.__call__` was deprecated in langchain 0.1.0 and will be removed in 0.2.0. Use invoke instead.\n",
      "  warn_deprecated(\n"
     ]
    },
    {
     "name": "stdout",
     "output_type": "stream",
     "text": [
      "\n",
      "\n",
      "\u001b[1m> Entering new SequentialChain chain...\u001b[0m\n",
      "\n",
      "\n",
      "\u001b[1m> Entering new LLMChain chain...\u001b[0m\n",
      "Prompt after formatting:\n",
      "\u001b[32;1m\u001b[1;3m\n",
      "Text:The term machine learning was coined in 1959 by Arthur Samuel, an IBM employee and pioneer in the field of computer gaming and artificial intelligence.[9][10] The synonym self-teaching computers was also used in this time period.[11][12]\n",
      "\n",
      "Although the earliest machine learning model was introduced in the 1950s when Arthur Samuel invented a program that calculated the winning chance in checkers for each side, the history of machine learning roots back to decades of human desire and effort to study human cognitive processes.[13] In 1949, Canadian psychologist Donald Hebb published the book The Organization of Behavior, in which he introduced a theoretical neural structure formed by certain interactions among nerve cells.[14] Hebb's model of neurons interacting with one another set a groundwork for how AIs and machine learning algorithms work under nodes, or artificial neurons used by computers to communicate data.[13] Other researchers who have studied human cognitive systems contributed to the modern machine learning technologies as well, including logician Walter Pitts and Warren McCulloch, who proposed the early mathematical models of neural networks to come up with algorithms that mirror human thought processes.[13]\n",
      "\n",
      "\n",
      "\n",
      "You are an expert MCQ maker. Given the above text, it is your job to create a quiz 5 multiple choice questions for machine learning students in simple tone.\n",
      "Make sure the questions are not repeated and check all the questions to be conforming the test as well.\n",
      "Make sure to format your response like RESPONSE_KJSON below and use it as a guide. Ensure tomake 5 MCQs\n",
      "### RESPONSE_JSON\n",
      "{\"1\": {\"mcq\": \"multiple choice question\", \"options\": {\"a\": \"choice here\", \"b\": \"choice here\", \"c\": \"choice here\", \"d\": \"choice here\"}, \"correct\": \"correct answer\"}, \"2\": {\"mcq\": \"multiple choice question\", \"options\": {\"a\": \"choice here\", \"b\": \"choice here\", \"c\": \"choice here\", \"d\": \"choice here\"}, \"correct\": \"correct answer\"}, \"3\": {\"mcq\": \"multiple choice question\", \"options\": {\"a\": \"choice here\", \"b\": \"choice here\", \"c\": \"choice here\", \"d\": \"choice here\"}, \"correct\": \"correct answer\"}}\n",
      "\n",
      "\u001b[0m\n",
      "\n",
      "\u001b[1m> Finished chain.\u001b[0m\n",
      "\n",
      "\n",
      "\u001b[1m> Entering new LLMChain chain...\u001b[0m\n",
      "Prompt after formatting:\n",
      "\u001b[32;1m\u001b[1;3m\n",
      "You are an expert english grammarian and writer. Given a Multiple Choice Quiz for machine learning students.You need to evaluate the complexity of the question and give a complete analysis of the quiz. Only use at max 50 words for complexity analysis. \n",
      "if the quiz is not at per with the cognitive and analytical abilities of the students,update the quiz questions which needs to be changed and change the tone such that it perfectly fits the student abilities\n",
      "Quiz_MCQs:\n",
      "### RESPONSE_JSON\n",
      "{\n",
      "    \"1\": {\n",
      "        \"mcq\": \"Who coined the term 'machine learning' in 1959?\",\n",
      "        \"options\": {\n",
      "            \"a\": \"Donald Hebb\",\n",
      "            \"b\": \"Walter Pitts\",\n",
      "            \"c\": \"Arthur Samuel\",\n",
      "            \"d\": \"Warren McCulloch\"\n",
      "        },\n",
      "        \"correct\": \"c\"\n",
      "    },\n",
      "    \"2\": {\n",
      "        \"mcq\": \"What was the earliest machine learning model introduced by Arthur Samuel in the 1950s?\",\n",
      "        \"options\": {\n",
      "            \"a\": \"Program for calculating winning chance in chess\",\n",
      "            \"b\": \"Program for calculating winning chance in checkers\",\n",
      "            \"c\": \"Program for calculating winning chance in tic-tac-toe\",\n",
      "            \"d\": \"Program for calculating winning chance in poker\"\n",
      "        },\n",
      "        \"correct\": \"b\"\n",
      "    },\n",
      "    \"3\": {\n",
      "        \"mcq\": \"Who introduced a theoretical neural structure in the book 'The Organization of Behavior'?\",\n",
      "        \"options\": {\n",
      "            \"a\": \"Arthur Samuel\",\n",
      "            \"b\": \"Donald Hebb\",\n",
      "            \"c\": \"Walter Pitts\",\n",
      "            \"d\": \"Warren McCulloch\"\n",
      "        },\n",
      "        \"correct\": \"b\"\n",
      "    },\n",
      "    \"4\": {\n",
      "        \"mcq\": \"What did Hebb's model of neurons interacting with one another set a groundwork for in machine learning?\",\n",
      "        \"options\": {\n",
      "            \"a\": \"Programming languages\",\n",
      "            \"b\": \"Artificial Intelligence\",\n",
      "            \"c\": \"Neural networks\",\n",
      "            \"d\": \"Quantum computing\"\n",
      "        },\n",
      "        \"correct\": \"c\"\n",
      "    },\n",
      "    \"5\": {\n",
      "        \"mcq\": \"Who proposed the early mathematical models of neural networks to come up with algorithms that mirror human thought processes?\",\n",
      "        \"options\": {\n",
      "            \"a\": \"Donald Hebb\",\n",
      "            \"b\": \"Walter Pitts\",\n",
      "            \"c\": \"Arthur Samuel\",\n",
      "            \"d\": \"Warren McCulloch\"\n",
      "        },\n",
      "        \"correct\": \"b\"\n",
      "    }\n",
      "}\n",
      "\n",
      "Check from an expert English Writer of the above quiz:\n",
      "\u001b[0m\n",
      "\n",
      "\u001b[1m> Finished chain.\u001b[0m\n",
      "\n",
      "\u001b[1m> Finished chain.\u001b[0m\n"
     ]
    }
   ],
   "source": [
    "with get_openai_callback() as cb:\n",
    "    response=generate_evaluate_chain(\n",
    "        {\n",
    "            \"text\": TEXT,\n",
    "            \"number\": NUMBER,\n",
    "            \"subject\":SUBJECT,\n",
    "            \"tone\": TONE,\n",
    "            \"response_json\": json.dumps(RESPONSE_JSON)\n",
    "        }\n",
    "        )"
   ]
  },
  {
   "cell_type": "code",
   "execution_count": 21,
   "id": "6fa79e64",
   "metadata": {},
   "outputs": [
    {
     "data": {
      "text/plain": [
       "{'text': \"The term machine learning was coined in 1959 by Arthur Samuel, an IBM employee and pioneer in the field of computer gaming and artificial intelligence.[9][10] The synonym self-teaching computers was also used in this time period.[11][12]\\n\\nAlthough the earliest machine learning model was introduced in the 1950s when Arthur Samuel invented a program that calculated the winning chance in checkers for each side, the history of machine learning roots back to decades of human desire and effort to study human cognitive processes.[13] In 1949, Canadian psychologist Donald Hebb published the book The Organization of Behavior, in which he introduced a theoretical neural structure formed by certain interactions among nerve cells.[14] Hebb's model of neurons interacting with one another set a groundwork for how AIs and machine learning algorithms work under nodes, or artificial neurons used by computers to communicate data.[13] Other researchers who have studied human cognitive systems contributed to the modern machine learning technologies as well, including logician Walter Pitts and Warren McCulloch, who proposed the early mathematical models of neural networks to come up with algorithms that mirror human thought processes.[13]\\n\\n\\n\",\n",
       " 'number': 5,\n",
       " 'subject': 'machine learning',\n",
       " 'tone': 'simple',\n",
       " 'response_json': '{\"1\": {\"mcq\": \"multiple choice question\", \"options\": {\"a\": \"choice here\", \"b\": \"choice here\", \"c\": \"choice here\", \"d\": \"choice here\"}, \"correct\": \"correct answer\"}, \"2\": {\"mcq\": \"multiple choice question\", \"options\": {\"a\": \"choice here\", \"b\": \"choice here\", \"c\": \"choice here\", \"d\": \"choice here\"}, \"correct\": \"correct answer\"}, \"3\": {\"mcq\": \"multiple choice question\", \"options\": {\"a\": \"choice here\", \"b\": \"choice here\", \"c\": \"choice here\", \"d\": \"choice here\"}, \"correct\": \"correct answer\"}}',\n",
       " 'quiz': '### RESPONSE_JSON\\n{\\n    \"1\": {\\n        \"mcq\": \"Who coined the term \\'machine learning\\' in 1959?\",\\n        \"options\": {\\n            \"a\": \"Donald Hebb\",\\n            \"b\": \"Walter Pitts\",\\n            \"c\": \"Arthur Samuel\",\\n            \"d\": \"Warren McCulloch\"\\n        },\\n        \"correct\": \"c\"\\n    },\\n    \"2\": {\\n        \"mcq\": \"What was the earliest machine learning model introduced by Arthur Samuel in the 1950s?\",\\n        \"options\": {\\n            \"a\": \"Program for calculating winning chance in chess\",\\n            \"b\": \"Program for calculating winning chance in checkers\",\\n            \"c\": \"Program for calculating winning chance in tic-tac-toe\",\\n            \"d\": \"Program for calculating winning chance in poker\"\\n        },\\n        \"correct\": \"b\"\\n    },\\n    \"3\": {\\n        \"mcq\": \"Who introduced a theoretical neural structure in the book \\'The Organization of Behavior\\'?\",\\n        \"options\": {\\n            \"a\": \"Arthur Samuel\",\\n            \"b\": \"Donald Hebb\",\\n            \"c\": \"Walter Pitts\",\\n            \"d\": \"Warren McCulloch\"\\n        },\\n        \"correct\": \"b\"\\n    },\\n    \"4\": {\\n        \"mcq\": \"What did Hebb\\'s model of neurons interacting with one another set a groundwork for in machine learning?\",\\n        \"options\": {\\n            \"a\": \"Programming languages\",\\n            \"b\": \"Artificial Intelligence\",\\n            \"c\": \"Neural networks\",\\n            \"d\": \"Quantum computing\"\\n        },\\n        \"correct\": \"c\"\\n    },\\n    \"5\": {\\n        \"mcq\": \"Who proposed the early mathematical models of neural networks to come up with algorithms that mirror human thought processes?\",\\n        \"options\": {\\n            \"a\": \"Donald Hebb\",\\n            \"b\": \"Walter Pitts\",\\n            \"c\": \"Arthur Samuel\",\\n            \"d\": \"Warren McCulloch\"\\n        },\\n        \"correct\": \"b\"\\n    }\\n}',\n",
       " 'review': 'The complexity of the quiz is moderate, suitable for machine learning students. The questions cover key historical figures and concepts in the field. However, the tone could be simplified for better understanding. For example, \"Who first used the term \\'machine learning\\' in 1959?\" instead of \"coined.\"'}"
      ]
     },
     "execution_count": 21,
     "metadata": {},
     "output_type": "execute_result"
    }
   ],
   "source": [
    "response"
   ]
  },
  {
   "cell_type": "code",
   "execution_count": 22,
   "id": "375819a4",
   "metadata": {},
   "outputs": [
    {
     "name": "stdout",
     "output_type": "stream",
     "text": [
      "1517\n"
     ]
    }
   ],
   "source": [
    "print(cb.total_tokens)"
   ]
  },
  {
   "cell_type": "code",
   "execution_count": 23,
   "id": "398c48a8",
   "metadata": {},
   "outputs": [
    {
     "name": "stdout",
     "output_type": "stream",
     "text": [
      "1022\n"
     ]
    }
   ],
   "source": [
    "print(cb.prompt_tokens)"
   ]
  },
  {
   "cell_type": "code",
   "execution_count": 25,
   "id": "faa4028c",
   "metadata": {},
   "outputs": [
    {
     "name": "stdout",
     "output_type": "stream",
     "text": [
      "0.002523\n"
     ]
    }
   ],
   "source": [
    "print(cb.total_cost)"
   ]
  },
  {
   "cell_type": "code",
   "execution_count": 36,
   "id": "23d794bb",
   "metadata": {},
   "outputs": [
    {
     "name": "stdout",
     "output_type": "stream",
     "text": [
      "\n",
      "{\n",
      "    \"1\": {\n",
      "        \"mcq\": \"Who coined the term 'machine learning' in 1959?\",\n",
      "        \"options\": {\n",
      "            \"a\": \"Donald Hebb\",\n",
      "            \"b\": \"Walter Pitts\",\n",
      "            \"c\": \"Arthur Samuel\",\n",
      "            \"d\": \"Warren McCulloch\"\n",
      "        },\n",
      "        \"correct\": \"c\"\n",
      "    },\n",
      "    \"2\": {\n",
      "        \"mcq\": \"What was the earliest machine learning model introduced by Arthur Samuel in the 1950s?\",\n",
      "        \"options\": {\n",
      "            \"a\": \"Program for calculating winning chance in chess\",\n",
      "            \"b\": \"Program for calculating winning chance in checkers\",\n",
      "            \"c\": \"Program for calculating winning chance in tic-tac-toe\",\n",
      "            \"d\": \"Program for calculating winning chance in poker\"\n",
      "        },\n",
      "        \"correct\": \"b\"\n",
      "    },\n",
      "    \"3\": {\n",
      "        \"mcq\": \"Who introduced a theoretical neural structure in the book 'The Organization of Behavior'?\",\n",
      "        \"options\": {\n",
      "            \"a\": \"Arthur Samuel\",\n",
      "            \"b\": \"Donald Hebb\",\n",
      "            \"c\": \"Walter Pitts\",\n",
      "            \"d\": \"Warren McCulloch\"\n",
      "        },\n",
      "        \"correct\": \"b\"\n",
      "    },\n",
      "    \"4\": {\n",
      "        \"mcq\": \"What did Hebb's model of neurons interacting with one another set a groundwork for in machine learning?\",\n",
      "        \"options\": {\n",
      "            \"a\": \"Programming languages\",\n",
      "            \"b\": \"Artificial Intelligence\",\n",
      "            \"c\": \"Neural networks\",\n",
      "            \"d\": \"Quantum computing\"\n",
      "        },\n",
      "        \"correct\": \"c\"\n",
      "    },\n",
      "    \"5\": {\n",
      "        \"mcq\": \"Who proposed the early mathematical models of neural networks to come up with algorithms that mirror human thought processes?\",\n",
      "        \"options\": {\n",
      "            \"a\": \"Donald Hebb\",\n",
      "            \"b\": \"Walter Pitts\",\n",
      "            \"c\": \"Arthur Samuel\",\n",
      "            \"d\": \"Warren McCulloch\"\n",
      "        },\n",
      "        \"correct\": \"b\"\n",
      "    }\n",
      "}\n"
     ]
    }
   ],
   "source": [
    "quiz=response.get(\"quiz\")[17:]\n",
    "print(quiz)\n",
    "quiz=json.loads(quiz)"
   ]
  },
  {
   "cell_type": "code",
   "execution_count": 37,
   "id": "f0179315",
   "metadata": {},
   "outputs": [],
   "source": [
    "quiz_table_data = []\n",
    "for key, value in quiz.items():\n",
    "    mcq = value[\"mcq\"]\n",
    "    options = \" | \".join(\n",
    "        [\n",
    "            f\"{option}: {option_value}\"\n",
    "            for option, option_value in value[\"options\"].items()\n",
    "            ]\n",
    "        )\n",
    "    correct = value[\"correct\"]\n",
    "    quiz_table_data.append({\"MCQ\": mcq, \"Choices\": options, \"Correct\": correct})"
   ]
  },
  {
   "cell_type": "code",
   "execution_count": 38,
   "id": "4ae395ec",
   "metadata": {},
   "outputs": [
    {
     "data": {
      "text/plain": [
       "[{'MCQ': \"Who coined the term 'machine learning' in 1959?\",\n",
       "  'Choices': 'a: Donald Hebb | b: Walter Pitts | c: Arthur Samuel | d: Warren McCulloch',\n",
       "  'Correct': 'c'},\n",
       " {'MCQ': 'What was the earliest machine learning model introduced by Arthur Samuel in the 1950s?',\n",
       "  'Choices': 'a: Program for calculating winning chance in chess | b: Program for calculating winning chance in checkers | c: Program for calculating winning chance in tic-tac-toe | d: Program for calculating winning chance in poker',\n",
       "  'Correct': 'b'},\n",
       " {'MCQ': \"Who introduced a theoretical neural structure in the book 'The Organization of Behavior'?\",\n",
       "  'Choices': 'a: Arthur Samuel | b: Donald Hebb | c: Walter Pitts | d: Warren McCulloch',\n",
       "  'Correct': 'b'},\n",
       " {'MCQ': \"What did Hebb's model of neurons interacting with one another set a groundwork for in machine learning?\",\n",
       "  'Choices': 'a: Programming languages | b: Artificial Intelligence | c: Neural networks | d: Quantum computing',\n",
       "  'Correct': 'c'},\n",
       " {'MCQ': 'Who proposed the early mathematical models of neural networks to come up with algorithms that mirror human thought processes?',\n",
       "  'Choices': 'a: Donald Hebb | b: Walter Pitts | c: Arthur Samuel | d: Warren McCulloch',\n",
       "  'Correct': 'b'}]"
      ]
     },
     "execution_count": 38,
     "metadata": {},
     "output_type": "execute_result"
    }
   ],
   "source": [
    "quiz_table_data"
   ]
  },
  {
   "cell_type": "code",
   "execution_count": 40,
   "id": "76009a49",
   "metadata": {},
   "outputs": [],
   "source": [
    "quiz = pd.DataFrame(quiz_table_data)"
   ]
  },
  {
   "cell_type": "code",
   "execution_count": 41,
   "id": "31be494d",
   "metadata": {},
   "outputs": [
    {
     "data": {
      "text/html": [
       "<div>\n",
       "<style scoped>\n",
       "    .dataframe tbody tr th:only-of-type {\n",
       "        vertical-align: middle;\n",
       "    }\n",
       "\n",
       "    .dataframe tbody tr th {\n",
       "        vertical-align: top;\n",
       "    }\n",
       "\n",
       "    .dataframe thead th {\n",
       "        text-align: right;\n",
       "    }\n",
       "</style>\n",
       "<table border=\"1\" class=\"dataframe\">\n",
       "  <thead>\n",
       "    <tr style=\"text-align: right;\">\n",
       "      <th></th>\n",
       "      <th>MCQ</th>\n",
       "      <th>Choices</th>\n",
       "      <th>Correct</th>\n",
       "    </tr>\n",
       "  </thead>\n",
       "  <tbody>\n",
       "    <tr>\n",
       "      <th>0</th>\n",
       "      <td>Who coined the term 'machine learning' in 1959?</td>\n",
       "      <td>a: Donald Hebb | b: Walter Pitts | c: Arthur S...</td>\n",
       "      <td>c</td>\n",
       "    </tr>\n",
       "    <tr>\n",
       "      <th>1</th>\n",
       "      <td>What was the earliest machine learning model i...</td>\n",
       "      <td>a: Program for calculating winning chance in c...</td>\n",
       "      <td>b</td>\n",
       "    </tr>\n",
       "    <tr>\n",
       "      <th>2</th>\n",
       "      <td>Who introduced a theoretical neural structure ...</td>\n",
       "      <td>a: Arthur Samuel | b: Donald Hebb | c: Walter ...</td>\n",
       "      <td>b</td>\n",
       "    </tr>\n",
       "    <tr>\n",
       "      <th>3</th>\n",
       "      <td>What did Hebb's model of neurons interacting w...</td>\n",
       "      <td>a: Programming languages | b: Artificial Intel...</td>\n",
       "      <td>c</td>\n",
       "    </tr>\n",
       "    <tr>\n",
       "      <th>4</th>\n",
       "      <td>Who proposed the early mathematical models of ...</td>\n",
       "      <td>a: Donald Hebb | b: Walter Pitts | c: Arthur S...</td>\n",
       "      <td>b</td>\n",
       "    </tr>\n",
       "  </tbody>\n",
       "</table>\n",
       "</div>"
      ],
      "text/plain": [
       "                                                 MCQ  \\\n",
       "0    Who coined the term 'machine learning' in 1959?   \n",
       "1  What was the earliest machine learning model i...   \n",
       "2  Who introduced a theoretical neural structure ...   \n",
       "3  What did Hebb's model of neurons interacting w...   \n",
       "4  Who proposed the early mathematical models of ...   \n",
       "\n",
       "                                             Choices Correct  \n",
       "0  a: Donald Hebb | b: Walter Pitts | c: Arthur S...       c  \n",
       "1  a: Program for calculating winning chance in c...       b  \n",
       "2  a: Arthur Samuel | b: Donald Hebb | c: Walter ...       b  \n",
       "3  a: Programming languages | b: Artificial Intel...       c  \n",
       "4  a: Donald Hebb | b: Walter Pitts | c: Arthur S...       b  "
      ]
     },
     "execution_count": 41,
     "metadata": {},
     "output_type": "execute_result"
    }
   ],
   "source": [
    "quiz\n"
   ]
  },
  {
   "cell_type": "code",
   "execution_count": 42,
   "id": "d18666c6",
   "metadata": {},
   "outputs": [],
   "source": [
    "quiz.to_csv(\"machinelearning.csv\",index=False)"
   ]
  }
 ],
 "metadata": {
  "kernelspec": {
   "display_name": "Python 3 (ipykernel)",
   "language": "python",
   "name": "python3"
  },
  "language_info": {
   "codemirror_mode": {
    "name": "ipython",
    "version": 3
   },
   "file_extension": ".py",
   "mimetype": "text/x-python",
   "name": "python",
   "nbconvert_exporter": "python",
   "pygments_lexer": "ipython3",
   "version": "3.10.8"
  }
 },
 "nbformat": 4,
 "nbformat_minor": 5
}
